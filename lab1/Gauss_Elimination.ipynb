{
 "cells": [
  {
   "cell_type": "markdown",
   "metadata": {
    "id": "2AqzuHRaHz3p"
   },
   "source": [
    "# Bài Tập: Giải Hệ Phương Trình Tuyến Tính\n",
    "### Thông Tin Sinh Viên\n",
    "- **Họ và tên:** [Đỗ Tiến Đạt]\n",
    "- **Mã số sinh viên:** [23120119]\n",
    "- **Lớp:** [23CTT2]\n",
    "\n",
    "### Mô tả bài toán\n",
    "- Cài đặt thuật toán **Khử Gauss** để giải hệ phương trình tuyến tính dạng `Ax = b`.\n",
    "- Biểu diễn nghiệm bằng `SymPy` trong trường hợp có vô số nghiệm.\n",
    "- Nếu hệ vô nghiệm, chương trình sẽ hiển thị thông báo.\n"
   ]
  },
  {
   "cell_type": "code",
   "execution_count": 1,
   "metadata": {
    "executionInfo": {
     "elapsed": 9418,
     "status": "ok",
     "timestamp": 1742483745134,
     "user": {
      "displayName": "Tiến Đạt Đỗ",
      "userId": "11429569533403375709"
     },
     "user_tz": -420
    },
    "id": "Ia5QmvNBHz3r"
   },
   "outputs": [],
   "source": [
    "# Import thư viện cần thiết\n",
    "import numpy as np\n",
    "import copy\n",
    "import sympy\n",
    "\n",
    "# Định nghĩa lớp Matrix\n",
    "class Matrix:\n",
    "    def __init__(self, data):\n",
    "        self.data = data\n",
    "        self.row = len(data)\n",
    "        self.col = len(data[0])\n",
    "\n",
    "    def swap(self, r1, r2):\n",
    "        self.data[r1], self.data[r2] = self.data[r2], self.data[r1]\n",
    "\n",
    "    def multiply_by_num(self, x, num):\n",
    "        for j in range(self.col):\n",
    "            self.data[x][j] *= num\n",
    "\n",
    "    def subtract_row_by_row(self, x, y, num):\n",
    "        for j in range(self.col):\n",
    "            self.data[x][j] -= self.data[y][j] * num\n",
    "\n",
    "    def display(self):\n",
    "        for row in self.data:\n",
    "            print(row)\n"
   ]
  },
  {
   "cell_type": "code",
   "execution_count": 2,
   "metadata": {
    "executionInfo": {
     "elapsed": 27,
     "status": "ok",
     "timestamp": 1742483747890,
     "user": {
      "displayName": "Tiến Đạt Đỗ",
      "userId": "11429569533403375709"
     },
     "user_tz": -420
    },
    "id": "VYYT2MlDHz3s"
   },
   "outputs": [],
   "source": [
    "# Thuật toán Khử Gauss\n",
    "def Gauss_elimination(A: Matrix) -> Matrix:\n",
    "    ans = copy.deepcopy(A)\n",
    "    for i in range(ans.col - 1):\n",
    "        if i >= ans.row:\n",
    "            break\n",
    "        if ans.data[i][i] == 0:\n",
    "            for j in range(i + 1, ans.row):\n",
    "                if ans.data[j][i] != 0:\n",
    "                    ans.swap(i, j)\n",
    "                    break\n",
    "\n",
    "        factor = float(ans.data[i][i])\n",
    "        ans.multiply_by_num(i, 1 / factor)\n",
    "\n",
    "        for j in range(i + 1, ans.row):\n",
    "            ans.subtract_row_by_row(j, i, ans.data[j][i])\n",
    "    return ans\n"
   ]
  },
  {
   "cell_type": "code",
   "execution_count": 3,
   "metadata": {
    "executionInfo": {
     "elapsed": 15,
     "status": "ok",
     "timestamp": 1742483749518,
     "user": {
      "displayName": "Tiến Đạt Đỗ",
      "userId": "11429569533403375709"
     },
     "user_tz": -420
    },
    "id": "xjXP5mCWHz3s"
   },
   "outputs": [],
   "source": [
    "# Hàm thực hiện Back Substitution và biểu diễn nghiệm bằng SymPy\n",
    "def back_substitution(A: Matrix):\n",
    "    ans = copy.deepcopy(A)\n",
    "    m, n = ans.row, ans.col - 1\n",
    "    x = [0] * n\n",
    "\n",
    "    for i in range(m - 1, -1, -1):\n",
    "        row = ans.data[i]\n",
    "        if all(row[j] == 0 for j in range(n)) and row[-1] != 0:\n",
    "            print('No solution')\n",
    "            return None\n",
    "\n",
    "    for i in range(m - 1, -1, -1):\n",
    "        if ans.data[i][i] == 0:\n",
    "            x[i] = sympy.symbols(f't{i}')\n",
    "            continue\n",
    "        s = sum(ans.data[i][j] * x[j] for j in range(i + 1, n))\n",
    "        x[i] = ans.data[i][-1] - s\n",
    "\n",
    "    solution = {f'x_{i}': x[i] for i in range(n)}\n",
    "    return solution\n"
   ]
  },
  {
   "cell_type": "code",
   "execution_count": 4,
   "metadata": {
    "colab": {
     "base_uri": "https://localhost:8080/"
    },
    "executionInfo": {
     "elapsed": 7,
     "status": "ok",
     "timestamp": 1742483751063,
     "user": {
      "displayName": "Tiến Đạt Đỗ",
      "userId": "11429569533403375709"
     },
     "user_tz": -420
    },
    "id": "t7VDAaHqHz3t",
    "outputId": "e78a10dd-d24d-4ab5-8d33-c1210793bde1"
   },
   "outputs": [
    {
     "name": "stdout",
     "output_type": "stream",
     "text": [
      "Ma trận mở rộng ban đầu:\n",
      "[2, -1, 3, 9]\n",
      "[4, 2, -1, 1]\n",
      "[0, 1, -2, -3]\n",
      "\n",
      "Ma trận sau khi khử Gauss:\n",
      "[1.0, -0.5, 1.5, 4.5]\n",
      "[0.0, 1.0, -1.75, -4.25]\n",
      "[-0.0, -0.0, 1.0, -5.0]\n",
      "\n",
      "Nghiệm của hệ phương trình:\n",
      "{x_0: 5.5, x_1: -13.0, x_2: -5.0}\n"
     ]
    }
   ],
   "source": [
    "# Kiểm tra thuật toán với ví dụ cụ thể\n",
    "A = Matrix([\n",
    "    [2, -1, 3, 9],\n",
    "    [4, 2, -1, 1],\n",
    "    [0, 1, -2, -3]\n",
    "])\n",
    "\n",
    "print(\"Ma trận mở rộng ban đầu:\")\n",
    "A.display()\n",
    "\n",
    "# Thực hiện khử Gauss\n",
    "A_reduced = Gauss_elimination(A)\n",
    "print(\"\\nMa trận sau khi khử Gauss:\")\n",
    "A_reduced.display()\n",
    "\n",
    "# Thực hiện back substitution và hiển thị nghiệm\n",
    "solution = back_substitution(A_reduced)\n",
    "print(\"\\nNghiệm của hệ phương trình:\")\n",
    "sympy.pprint(solution)\n"
   ]
  },
  {
   "cell_type": "markdown",
   "metadata": {
    "id": "CdAm7Me_Hz3t"
   },
   "source": [
    "## Mô tả ý tưởng thực hiện\n",
    "- **Bước 1:** Biểu diễn hệ phương trình dưới dạng ma trận mở rộng `A|b`.\n",
    "- **Bước 2:** Áp dụng **Khử Gauss**, đưa ma trận về dạng bậc thang.\n",
    "- **Bước 3:** Áp dụng **Back Substitution** để tìm nghiệm.\n",
    "- **Bước 4:** Sử dụng `SymPy` để hiển thị nghiệm nếu hệ có vô số nghiệm.\n",
    "- **Bước 5:** Kiểm tra và thông báo nếu hệ phương trình vô nghiệm.\n",
    "\n",
    "## Mô tả các hàm\n",
    "- `Gauss_elimination(A)`: Khử Gauss để đưa ma trận về dạng bậc thang.\n",
    "- `back_substitution(A)`: Tìm nghiệm của hệ phương trình.\n",
    "- `display()`: In ma trận theo định dạng dễ nhìn.\n"
   ]
  }
 ],
 "metadata": {
  "colab": {
   "provenance": []
  },
  "kernelspec": {
   "display_name": "Python 3",
   "language": "python",
   "name": "python3"
  },
  "language_info": {
   "name": "python",
   "version": "3.8"
  }
 },
 "nbformat": 4,
 "nbformat_minor": 0
}
